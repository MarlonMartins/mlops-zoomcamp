{
 "cells": [
  {
   "cell_type": "markdown",
   "id": "92531919",
   "metadata": {},
   "source": [
    "## Homework\n",
    "\n",
    "The goal of this homework is to train a simple model for predicting the duration of a ride "
   ]
  },
  {
   "cell_type": "code",
   "execution_count": null,
   "id": "89862e97",
   "metadata": {},
   "outputs": [],
   "source": [
    "import pandas as pd\n",
    "import seaborn as sns\n",
    "\n",
    "import pickle\n",
    "import matplotlib.pyplot as plt\n",
    "from sklearn.feature_extraction import DictVectorizer\n",
    "from sklearn.linear_model import LinearRegression, Lasso, Ridge\n",
    "\n",
    "from sklearn.metrics import mean_squared_error"
   ]
  },
  {
   "cell_type": "markdown",
   "id": "f71d9143",
   "metadata": {},
   "source": [
    "## Q1. Downloading the data\n",
    "\n",
    "We'll use \"**Yellow** Taxi Trip Records\" [link](https://www1.nyc.gov/site/tlc/about/tlc-trip-record-data.page)."
   ]
  },
  {
   "cell_type": "code",
   "execution_count": 21,
   "id": "9650cffc",
   "metadata": {},
   "outputs": [],
   "source": [
    "january_data_url = \"https://d37ci6vzurychx.cloudfront.net/trip-data/yellow_tripdata_2023-01.parquet\"\n",
    "february_data_url = \"https://d37ci6vzurychx.cloudfront.net/trip-data/yellow_tripdata_2023-02.parquet\""
   ]
  },
  {
   "cell_type": "code",
   "execution_count": 24,
   "id": "92c65e18",
   "metadata": {},
   "outputs": [],
   "source": [
    "df_january = pd.read_parquet(january_data_url)\n",
    "df_february = pd.read_parquet(february_data_url)"
   ]
  },
  {
   "cell_type": "markdown",
   "id": "06fac267",
   "metadata": {},
   "source": [
    "#### Read the data for January. How many columns are there?"
   ]
  },
  {
   "cell_type": "code",
   "execution_count": 23,
   "id": "0781397f",
   "metadata": {},
   "outputs": [
    {
     "name": "stdout",
     "output_type": "stream",
     "text": [
      "Answer: There are 19 columns in the January dataset.\n"
     ]
    }
   ],
   "source": [
    "print(f\"Answer: There are {df_january.shape[1]} columns in the January dataset.\")"
   ]
  },
  {
   "cell_type": "markdown",
   "id": "6051b626",
   "metadata": {},
   "source": [
    "### Q2. Computing duration\n",
    "\n",
    "Now let's compute the `duration` variable. It should contain the duration of a ride in minutes. "
   ]
  },
  {
   "cell_type": "code",
   "execution_count": 28,
   "id": "774dedee",
   "metadata": {},
   "outputs": [],
   "source": [
    "def calculate_ride_duration(dataframe: pd.DataFrame) -> pd.Series:\n",
    "    \"\"\"\n",
    "    Calculate the ride duration in seconds.\n",
    "    \"\"\"\n",
    "\n",
    "    pickup_datetime = pd.to_datetime(dataframe.tpep_pickup_datetime)\n",
    "    dropoff_datetime = pd.to_datetime(dataframe.tpep_dropoff_datetime)\n",
    "\n",
    "    duration = (dropoff_datetime - pickup_datetime).dt.total_seconds()/60\n",
    "    return duration\n"
   ]
  },
  {
   "cell_type": "code",
   "execution_count": 29,
   "id": "a9f8418a",
   "metadata": {},
   "outputs": [],
   "source": [
    "df_january[\"duration\"] = calculate_ride_duration(df_january)"
   ]
  },
  {
   "cell_type": "markdown",
   "id": "2d464874",
   "metadata": {},
   "source": [
    "#### What's the standard deviation of the trips duration in January?"
   ]
  },
  {
   "cell_type": "code",
   "execution_count": 30,
   "id": "81cea765",
   "metadata": {},
   "outputs": [
    {
     "data": {
      "text/html": [
       "<div>\n",
       "<style scoped>\n",
       "    .dataframe tbody tr th:only-of-type {\n",
       "        vertical-align: middle;\n",
       "    }\n",
       "\n",
       "    .dataframe tbody tr th {\n",
       "        vertical-align: top;\n",
       "    }\n",
       "\n",
       "    .dataframe thead th {\n",
       "        text-align: right;\n",
       "    }\n",
       "</style>\n",
       "<table border=\"1\" class=\"dataframe\">\n",
       "  <thead>\n",
       "    <tr style=\"text-align: right;\">\n",
       "      <th></th>\n",
       "      <th>duration</th>\n",
       "    </tr>\n",
       "  </thead>\n",
       "  <tbody>\n",
       "    <tr>\n",
       "      <th>count</th>\n",
       "      <td>3.066766e+06</td>\n",
       "    </tr>\n",
       "    <tr>\n",
       "      <th>mean</th>\n",
       "      <td>1.566900e+01</td>\n",
       "    </tr>\n",
       "    <tr>\n",
       "      <th>std</th>\n",
       "      <td>4.259435e+01</td>\n",
       "    </tr>\n",
       "    <tr>\n",
       "      <th>min</th>\n",
       "      <td>-2.920000e+01</td>\n",
       "    </tr>\n",
       "    <tr>\n",
       "      <th>25%</th>\n",
       "      <td>7.116667e+00</td>\n",
       "    </tr>\n",
       "    <tr>\n",
       "      <th>50%</th>\n",
       "      <td>1.151667e+01</td>\n",
       "    </tr>\n",
       "    <tr>\n",
       "      <th>75%</th>\n",
       "      <td>1.830000e+01</td>\n",
       "    </tr>\n",
       "    <tr>\n",
       "      <th>max</th>\n",
       "      <td>1.002918e+04</td>\n",
       "    </tr>\n",
       "  </tbody>\n",
       "</table>\n",
       "</div>"
      ],
      "text/plain": [
       "           duration\n",
       "count  3.066766e+06\n",
       "mean   1.566900e+01\n",
       "std    4.259435e+01\n",
       "min   -2.920000e+01\n",
       "25%    7.116667e+00\n",
       "50%    1.151667e+01\n",
       "75%    1.830000e+01\n",
       "max    1.002918e+04"
      ]
     },
     "execution_count": 30,
     "metadata": {},
     "output_type": "execute_result"
    }
   ],
   "source": [
    "df_january[[\"duration\"]].describe()"
   ]
  },
  {
   "cell_type": "markdown",
   "id": "298c8aab",
   "metadata": {},
   "source": [
    "### Q3. Dropping outliers\n",
    "\n",
    "Next, we need to check the distribution of the `duration` variable. There are some outliers. Let's remove them and keep only the records where the duration was between 1 and 60 minutes (inclusive)."
   ]
  },
  {
   "cell_type": "code",
   "execution_count": 31,
   "id": "53ad4636",
   "metadata": {},
   "outputs": [],
   "source": [
    "def remove_outliers(dataframe: pd.DataFrame) -> pd.DataFrame:\n",
    "    \"\"\"\n",
    "    Remove outliers from the dataframe.\n",
    "    \"\"\"\n",
    "    return dataframe[(dataframe[\"duration\"] >= 1) & (dataframe[\"duration\"] <= 60)]"
   ]
  },
  {
   "cell_type": "markdown",
   "id": "30c25efc",
   "metadata": {},
   "source": [
    "#### What fraction of the records left after you dropped the outliers?\n"
   ]
  },
  {
   "cell_type": "code",
   "execution_count": 32,
   "id": "95eb4a02",
   "metadata": {},
   "outputs": [],
   "source": [
    "df_transformed = remove_outliers(df_january)"
   ]
  },
  {
   "cell_type": "code",
   "execution_count": 41,
   "id": "9f31226d",
   "metadata": {},
   "outputs": [
    {
     "name": "stdout",
     "output_type": "stream",
     "text": [
      "Answer: The fraction of records left after dropping outliers is 98.12%\n"
     ]
    }
   ],
   "source": [
    "print(f\"Answer: The fraction of records left after dropping outliers is {(df_transformed.shape[0]/df_january.shape[0])*100:.2f}%\")"
   ]
  },
  {
   "cell_type": "markdown",
   "id": "3c808d3e",
   "metadata": {},
   "source": [
    "## Q4. One-hot encoding\n",
    "\n",
    "Let's apply one-hot encoding to the pickup and dropoff location IDs. We'll use only these two features for our model. \n",
    "\n",
    "* Turn the dataframe into a list of dictionaries (remember to re-cast the ids to strings - otherwise it will \n",
    "  label encode them)\n",
    "* Fit a dictionary vectorizer \n",
    "* Get a feature matrix from it\n"
   ]
  },
  {
   "cell_type": "code",
   "execution_count": null,
   "id": "58813c72",
   "metadata": {},
   "outputs": [],
   "source": []
  }
 ],
 "metadata": {
  "kernelspec": {
   "display_name": "base",
   "language": "python",
   "name": "python3"
  },
  "language_info": {
   "codemirror_mode": {
    "name": "ipython",
    "version": 3
   },
   "file_extension": ".py",
   "mimetype": "text/x-python",
   "name": "python",
   "nbconvert_exporter": "python",
   "pygments_lexer": "ipython3",
   "version": "3.9.12"
  }
 },
 "nbformat": 4,
 "nbformat_minor": 5
}
