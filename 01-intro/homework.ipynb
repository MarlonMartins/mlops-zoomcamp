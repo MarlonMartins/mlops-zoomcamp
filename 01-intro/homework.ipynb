{
 "cells": [
  {
   "cell_type": "markdown",
   "id": "92531919",
   "metadata": {},
   "source": [
    "## Homework\n",
    "\n",
    "The goal of this homework is to train a simple model for predicting the duration of a ride "
   ]
  },
  {
   "cell_type": "code",
   "execution_count": 1,
   "id": "89862e97",
   "metadata": {},
   "outputs": [],
   "source": [
    "import pandas as pd\n",
    "import seaborn as sns\n",
    "\n",
    "import pickle\n",
    "import matplotlib.pyplot as plt\n",
    "from sklearn.feature_extraction import DictVectorizer\n",
    "from sklearn.linear_model import LinearRegression, Lasso, Ridge\n",
    "\n",
    "from sklearn.metrics import mean_squared_error"
   ]
  },
  {
   "cell_type": "markdown",
   "id": "f71d9143",
   "metadata": {},
   "source": [
    "## Q1. Downloading the data\n",
    "\n",
    "We'll use \"**Yellow** Taxi Trip Records\" [link](https://www1.nyc.gov/site/tlc/about/tlc-trip-record-data.page)."
   ]
  },
  {
   "cell_type": "code",
   "execution_count": 2,
   "id": "9650cffc",
   "metadata": {},
   "outputs": [],
   "source": [
    "january_data_url = \"https://d37ci6vzurychx.cloudfront.net/trip-data/yellow_tripdata_2023-01.parquet\"\n",
    "february_data_url = \"https://d37ci6vzurychx.cloudfront.net/trip-data/yellow_tripdata_2023-02.parquet\""
   ]
  },
  {
   "cell_type": "code",
   "execution_count": 3,
   "id": "dc520273",
   "metadata": {},
   "outputs": [],
   "source": [
    "def read_and_process_dataframe(url: str) -> pd.DataFrame:\n",
    "    \"\"\"\n",
    "    Read and process the dataframe from the given URL.\n",
    "    \"\"\"\n",
    "    dataframe = pd.read_parquet(url)\n",
    "    df = dataframe.copy()\n",
    "    categorical_vars = [\"PULocationID\", \"DOLocationID\"]\n",
    "    df[categorical_vars] = df[categorical_vars].astype(str)\n",
    "\n",
    "    return df"
   ]
  },
  {
   "cell_type": "code",
   "execution_count": 4,
   "id": "92c65e18",
   "metadata": {},
   "outputs": [],
   "source": [
    "df_january = read_and_process_dataframe(january_data_url)\n",
    "df_february = read_and_process_dataframe(february_data_url)"
   ]
  },
  {
   "cell_type": "markdown",
   "id": "06fac267",
   "metadata": {},
   "source": [
    "#### Read the data for January. How many columns are there?"
   ]
  },
  {
   "cell_type": "code",
   "execution_count": 5,
   "id": "0781397f",
   "metadata": {},
   "outputs": [
    {
     "name": "stdout",
     "output_type": "stream",
     "text": [
      "Answer: There are 19 columns in the January dataset.\n"
     ]
    }
   ],
   "source": [
    "print(f\"Answer: There are {df_january.shape[1]} columns in the January dataset.\")"
   ]
  },
  {
   "cell_type": "markdown",
   "id": "6051b626",
   "metadata": {},
   "source": [
    "### Q2. Computing duration\n",
    "\n",
    "Now let's compute the `duration` variable. It should contain the duration of a ride in minutes. "
   ]
  },
  {
   "cell_type": "code",
   "execution_count": 6,
   "id": "774dedee",
   "metadata": {},
   "outputs": [],
   "source": [
    "def calculate_ride_duration(dataframe: pd.DataFrame) -> pd.Series:\n",
    "    \"\"\"\n",
    "    Calculate the ride duration in seconds.\n",
    "    \"\"\"\n",
    "\n",
    "    pickup_datetime = pd.to_datetime(dataframe.tpep_pickup_datetime)\n",
    "    dropoff_datetime = pd.to_datetime(dataframe.tpep_dropoff_datetime)\n",
    "\n",
    "    duration = (dropoff_datetime - pickup_datetime).dt.total_seconds()/60\n",
    "    return duration\n"
   ]
  },
  {
   "cell_type": "code",
   "execution_count": 7,
   "id": "a9f8418a",
   "metadata": {},
   "outputs": [],
   "source": [
    "df_january[\"duration\"] = calculate_ride_duration(df_january)\n",
    "df_february[\"duration\"] = calculate_ride_duration(df_february)"
   ]
  },
  {
   "cell_type": "markdown",
   "id": "2d464874",
   "metadata": {},
   "source": [
    "#### What's the standard deviation of the trips duration in January?"
   ]
  },
  {
   "cell_type": "code",
   "execution_count": 8,
   "id": "81cea765",
   "metadata": {},
   "outputs": [
    {
     "data": {
      "text/html": [
       "<div>\n",
       "<style scoped>\n",
       "    .dataframe tbody tr th:only-of-type {\n",
       "        vertical-align: middle;\n",
       "    }\n",
       "\n",
       "    .dataframe tbody tr th {\n",
       "        vertical-align: top;\n",
       "    }\n",
       "\n",
       "    .dataframe thead th {\n",
       "        text-align: right;\n",
       "    }\n",
       "</style>\n",
       "<table border=\"1\" class=\"dataframe\">\n",
       "  <thead>\n",
       "    <tr style=\"text-align: right;\">\n",
       "      <th></th>\n",
       "      <th>duration</th>\n",
       "    </tr>\n",
       "  </thead>\n",
       "  <tbody>\n",
       "    <tr>\n",
       "      <th>count</th>\n",
       "      <td>3.066766e+06</td>\n",
       "    </tr>\n",
       "    <tr>\n",
       "      <th>mean</th>\n",
       "      <td>1.566900e+01</td>\n",
       "    </tr>\n",
       "    <tr>\n",
       "      <th>std</th>\n",
       "      <td>4.259435e+01</td>\n",
       "    </tr>\n",
       "    <tr>\n",
       "      <th>min</th>\n",
       "      <td>-2.920000e+01</td>\n",
       "    </tr>\n",
       "    <tr>\n",
       "      <th>25%</th>\n",
       "      <td>7.116667e+00</td>\n",
       "    </tr>\n",
       "    <tr>\n",
       "      <th>50%</th>\n",
       "      <td>1.151667e+01</td>\n",
       "    </tr>\n",
       "    <tr>\n",
       "      <th>75%</th>\n",
       "      <td>1.830000e+01</td>\n",
       "    </tr>\n",
       "    <tr>\n",
       "      <th>max</th>\n",
       "      <td>1.002918e+04</td>\n",
       "    </tr>\n",
       "  </tbody>\n",
       "</table>\n",
       "</div>"
      ],
      "text/plain": [
       "           duration\n",
       "count  3.066766e+06\n",
       "mean   1.566900e+01\n",
       "std    4.259435e+01\n",
       "min   -2.920000e+01\n",
       "25%    7.116667e+00\n",
       "50%    1.151667e+01\n",
       "75%    1.830000e+01\n",
       "max    1.002918e+04"
      ]
     },
     "execution_count": 8,
     "metadata": {},
     "output_type": "execute_result"
    }
   ],
   "source": [
    "df_january[[\"duration\"]].describe()"
   ]
  },
  {
   "cell_type": "markdown",
   "id": "298c8aab",
   "metadata": {},
   "source": [
    "### Q3. Dropping outliers\n",
    "\n",
    "Next, we need to check the distribution of the `duration` variable. There are some outliers. Let's remove them and keep only the records where the duration was between 1 and 60 minutes (inclusive)."
   ]
  },
  {
   "cell_type": "code",
   "execution_count": 9,
   "id": "53ad4636",
   "metadata": {},
   "outputs": [],
   "source": [
    "def remove_outliers(dataframe: pd.DataFrame) -> pd.DataFrame:\n",
    "    \"\"\"\n",
    "    Remove outliers from the dataframe.\n",
    "    \"\"\"\n",
    "    return dataframe[(dataframe[\"duration\"] >= 1) & (dataframe[\"duration\"] <= 60)]"
   ]
  },
  {
   "cell_type": "markdown",
   "id": "30c25efc",
   "metadata": {},
   "source": [
    "#### What fraction of the records left after you dropped the outliers?\n"
   ]
  },
  {
   "cell_type": "code",
   "execution_count": 10,
   "id": "95eb4a02",
   "metadata": {},
   "outputs": [],
   "source": [
    "df_train = remove_outliers(df_january)\n",
    "df_val = remove_outliers(df_february)"
   ]
  },
  {
   "cell_type": "code",
   "execution_count": 11,
   "id": "9f31226d",
   "metadata": {},
   "outputs": [
    {
     "name": "stdout",
     "output_type": "stream",
     "text": [
      "Answer: The fraction of records left after dropping outliers is 98.12%\n"
     ]
    }
   ],
   "source": [
    "print(f\"Answer: The fraction of records left after dropping outliers is {(df_train.shape[0]/df_january.shape[0])*100:.2f}%\")"
   ]
  },
  {
   "cell_type": "markdown",
   "id": "3c808d3e",
   "metadata": {},
   "source": [
    "## Q4. One-hot encoding\n",
    "\n",
    "Let's apply one-hot encoding to the pickup and dropoff location IDs. We'll use only these two features for our model. \n",
    "\n",
    "* Turn the dataframe into a list of dictionaries (remember to re-cast the ids to strings - otherwise it will \n",
    "  label encode them)\n",
    "* Fit a dictionary vectorizer \n",
    "* Get a feature matrix from it\n"
   ]
  },
  {
   "cell_type": "code",
   "execution_count": 12,
   "id": "58813c72",
   "metadata": {},
   "outputs": [],
   "source": [
    "categorical_vars = [\"PULocationID\", \"DOLocationID\"]"
   ]
  },
  {
   "cell_type": "code",
   "execution_count": 13,
   "id": "1de3b62e",
   "metadata": {},
   "outputs": [
    {
     "name": "stderr",
     "output_type": "stream",
     "text": [
      "/tmp/ipykernel_2849/1362728980.py:1: SettingWithCopyWarning: \n",
      "A value is trying to be set on a copy of a slice from a DataFrame.\n",
      "Try using .loc[row_indexer,col_indexer] = value instead\n",
      "\n",
      "See the caveats in the documentation: https://pandas.pydata.org/pandas-docs/stable/user_guide/indexing.html#returning-a-view-versus-a-copy\n",
      "  df_train[categorical_vars] = df_train[categorical_vars].astype(str)\n",
      "/tmp/ipykernel_2849/1362728980.py:2: SettingWithCopyWarning: \n",
      "A value is trying to be set on a copy of a slice from a DataFrame.\n",
      "Try using .loc[row_indexer,col_indexer] = value instead\n",
      "\n",
      "See the caveats in the documentation: https://pandas.pydata.org/pandas-docs/stable/user_guide/indexing.html#returning-a-view-versus-a-copy\n",
      "  df_val[categorical_vars] = df_val[categorical_vars].astype(str)\n"
     ]
    }
   ],
   "source": [
    "df_train[categorical_vars] = df_train[categorical_vars].astype(str)\n",
    "df_val[categorical_vars] = df_val[categorical_vars].astype(str)"
   ]
  },
  {
   "cell_type": "code",
   "execution_count": 14,
   "id": "e5b96b1b",
   "metadata": {},
   "outputs": [],
   "source": [
    "dv = DictVectorizer()\n",
    "\n",
    "train_dicts = df_train[categorical_vars].to_dict(orient=\"records\")\n",
    "X_train = dv.fit_transform(train_dicts)\n",
    "\n",
    "val_dicts = df_val[categorical_vars].to_dict(orient=\"records\")\n",
    "X_val = dv.transform(val_dicts)"
   ]
  },
  {
   "cell_type": "markdown",
   "id": "1dd44c02",
   "metadata": {},
   "source": [
    "#### What's the dimensionality of this matrix (number of columns)?"
   ]
  },
  {
   "cell_type": "code",
   "execution_count": 15,
   "id": "d7e494c3",
   "metadata": {},
   "outputs": [
    {
     "name": "stdout",
     "output_type": "stream",
     "text": [
      "Answer: The dimentionality of this matrix is 515\n"
     ]
    }
   ],
   "source": [
    "print(f\"Answer: The dimentionality of this matrix is {X_train.shape[1]}\")"
   ]
  },
  {
   "cell_type": "markdown",
   "id": "0a61ef21",
   "metadata": {},
   "source": [
    "# Q5. Training a model\n",
    "\n",
    "Now let's use the feature matrix from the previous step to train a model. \n",
    "\n",
    "* Train a plain linear regression model with default parameters, where duration is the response variable\n",
    "* Calculate the RMSE of the model on the training data"
   ]
  },
  {
   "cell_type": "code",
   "execution_count": 16,
   "id": "8ffecc9e",
   "metadata": {},
   "outputs": [],
   "source": [
    "target = \"duration\""
   ]
  },
  {
   "cell_type": "code",
   "execution_count": 17,
   "id": "ce7a2e1c",
   "metadata": {},
   "outputs": [],
   "source": [
    "y_train = df_train[target].values\n",
    "y_val = df_val[target].values"
   ]
  },
  {
   "cell_type": "code",
   "execution_count": 18,
   "id": "96598ef9",
   "metadata": {},
   "outputs": [],
   "source": [
    "lr = LinearRegression()\n",
    "lr.fit(X_train, y_train)\n",
    "y_pred = lr.predict(X_train)\n",
    "rmse = mean_squared_error(y_train, y_pred, squared=False)"
   ]
  },
  {
   "cell_type": "markdown",
   "id": "63ae8640",
   "metadata": {},
   "source": [
    "#### What's the RMSE on train?"
   ]
  },
  {
   "cell_type": "code",
   "execution_count": 19,
   "id": "a78b459e",
   "metadata": {},
   "outputs": [
    {
     "name": "stdout",
     "output_type": "stream",
     "text": [
      "Answer: The RMSE on training set is 7.65\n"
     ]
    }
   ],
   "source": [
    "print(f\"Answer: The RMSE on training set is {rmse:.2f}\")"
   ]
  },
  {
   "cell_type": "markdown",
   "id": "6daf18f3",
   "metadata": {},
   "source": [
    "## Q6. Evaluating the model\n",
    "\n",
    "Now let's apply this model to the validation dataset (February 2023). "
   ]
  },
  {
   "cell_type": "code",
   "execution_count": 20,
   "id": "cf5d1180",
   "metadata": {},
   "outputs": [],
   "source": [
    "y_pred = lr.predict(X_val)\n",
    "rmse = mean_squared_error(y_val, y_pred, squared=False)"
   ]
  },
  {
   "cell_type": "markdown",
   "id": "3be2cf93",
   "metadata": {},
   "source": [
    "#### What's the RMSE on validation?"
   ]
  },
  {
   "cell_type": "code",
   "execution_count": 21,
   "id": "179d981a",
   "metadata": {},
   "outputs": [
    {
     "name": "stdout",
     "output_type": "stream",
     "text": [
      "Answer: The RMSE on validation set is 7.81\n"
     ]
    }
   ],
   "source": [
    "print(f\"Answer: The RMSE on validation set is {rmse:.2f}\")"
   ]
  }
 ],
 "metadata": {
  "kernelspec": {
   "display_name": "base",
   "language": "python",
   "name": "python3"
  },
  "language_info": {
   "codemirror_mode": {
    "name": "ipython",
    "version": 3
   },
   "file_extension": ".py",
   "mimetype": "text/x-python",
   "name": "python",
   "nbconvert_exporter": "python",
   "pygments_lexer": "ipython3",
   "version": "3.9.12"
  }
 },
 "nbformat": 4,
 "nbformat_minor": 5
}
